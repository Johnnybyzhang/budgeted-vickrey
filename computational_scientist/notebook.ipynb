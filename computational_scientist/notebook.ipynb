{
  "cells": [
    {"cell_type": "markdown", "metadata": {}, "source": [
      "# Budgeted Repeated Second-Price Auction (Colab Walkthrough)\n",
      "This notebook orchestrates the fast pipeline. Heavy compute is off by default."
    ]},
    {"cell_type": "markdown", "metadata": {}, "source": [
      "## Setup (Colab)\n",
      "Run once per session to install uv and sync dependencies."
    ]},
    {"cell_type": "code", "execution_count": null, "metadata": {"tags": ["parameters"]}, "outputs": [], "source": [
      "# In Colab only: install uv and sync project (adjust path if using Drive).\n",
      "# !curl -LsSf https://astral.sh/uv/install.sh | sh\n",
      "# %cd /content/budgeted-vickrey\n",
      "# !uv sync --dev\n"
    ]},
    {"cell_type": "markdown", "metadata": {}, "source": [
      "## Fast Simulation (aggregate-only)\n",
      "No Nash/DP in the hot path; single-threaded BLAS."
    ]},
    {"cell_type": "code", "execution_count": null, "metadata": {}, "outputs": [], "source": [
      "%%bash\n",
      "set -e\n",
      "export OMP_NUM_THREADS=1 MKL_NUM_THREADS=1 OPENBLAS_NUM_THREADS=1\n",
      "uv run python -m budgeted_spa.simulate \\\n",
      "  --fast --skip-nash --skip-dp \\\n",
      "  --policy truthful_capped \\\n",
      "  --n-mc 500 --T 5 --n-players 2 \\\n",
      "  --bid-step 5 --value-step 10 --budget-step 10 \\\n",
      "  --out-episodes none --out-aggregates results/fast.csv\n",
      "uv run python -m budgeted_spa.analysis --in results/fast.csv\n"
    ]},
    {"cell_type": "markdown", "metadata": {}, "source": [
      "## Outputs\n",
      "- results/fast.csv\n",
      "- results/summary.csv\n",
      "- figures/price_vs_round.png\n"
    ]}
  ],
  "metadata": {
    "kernelspec": {"display_name": "Python 3", "language": "python", "name": "python3"},
    "language_info": {"name": "python", "version": "3"}
  },
  "nbformat": 4,
  "nbformat_minor": 2
}
